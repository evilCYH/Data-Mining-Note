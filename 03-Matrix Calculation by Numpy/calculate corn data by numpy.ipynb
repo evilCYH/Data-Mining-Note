{
 "cells": [
  {
   "cell_type": "code",
   "execution_count": 151,
   "id": "91ab7a53",
   "metadata": {},
   "outputs": [],
   "source": [
    "import matplotlib.pyplot as plt\n",
    "import numpy as np\n",
    "import pandas as pd\n",
    "from scipy.io import loadmat\n",
    "from matplotlib.font_manager import FontProperties"
   ]
  },
  {
   "cell_type": "code",
   "execution_count": 80,
   "id": "0bf65776",
   "metadata": {},
   "outputs": [
    {
     "data": {
      "text/plain": [
       "dict_keys(['__header__', '__version__', '__globals__', 'm5spec', 'cornspect', 'cornwavelength', 'propvals', 'cornprop', 'NIRcoin', 'information', 'mp5spec', 'mp6spec', 'm5nbs', 'mp5nbs', 'mp6nbs'])"
      ]
     },
     "execution_count": 80,
     "metadata": {},
     "output_type": "execute_result"
    }
   ],
   "source": [
    "# 导入数据\n",
    "corn = loadmat('./data/NIRcorn.mat')\n",
    "corn.keys()"
   ]
  },
  {
   "cell_type": "markdown",
   "id": "75868a1c",
   "metadata": {},
   "source": [
    "随便选取了一个cornspect矩阵，但这个矩阵似乎选的很差，八十个奇异值只有能选择四五个"
   ]
  },
  {
   "cell_type": "code",
   "execution_count": 81,
   "id": "a72cd6fc",
   "metadata": {},
   "outputs": [
    {
     "data": {
      "text/plain": [
       "array([[0.0444948, 0.0443834, 0.0442581, ..., 0.731327 , 0.730944 ,\n",
       "        0.730594 ],\n",
       "       [0.0465041, 0.0463485, 0.0462297, ..., 0.727786 , 0.727504 ,\n",
       "        0.72703  ],\n",
       "       [0.0469579, 0.046817 , 0.0466632, ..., 0.706597 , 0.706122 ,\n",
       "        0.705967 ],\n",
       "       ...,\n",
       "       [0.0497173, 0.0495729, 0.0494713, ..., 0.748217 , 0.747987 ,\n",
       "        0.747532 ],\n",
       "       [0.0594381, 0.0593211, 0.0592224, ..., 0.736457 , 0.736197 ,\n",
       "        0.735732 ],\n",
       "       [0.0500851, 0.0499276, 0.0498294, ..., 0.728992 , 0.728863 ,\n",
       "        0.728245 ]])"
      ]
     },
     "execution_count": 81,
     "metadata": {},
     "output_type": "execute_result"
    }
   ],
   "source": [
    "corn['cornspect']"
   ]
  },
  {
   "cell_type": "markdown",
   "id": "c705fe50",
   "metadata": {},
   "source": [
    "# 计算cornspect矩阵的svd分解 #"
   ]
  },
  {
   "cell_type": "code",
   "execution_count": 82,
   "id": "b28730b3",
   "metadata": {
    "scrolled": true
   },
   "outputs": [
    {
     "data": {
      "text/plain": [
       "(80, 700)"
      ]
     },
     "execution_count": 82,
     "metadata": {},
     "output_type": "execute_result"
    }
   ],
   "source": [
    "# m=80,n=700\n",
    "np.shape(corn['cornspect'])"
   ]
  },
  {
   "cell_type": "code",
   "execution_count": 83,
   "id": "f8d04bc0",
   "metadata": {},
   "outputs": [],
   "source": [
    "# svd分解\n",
    "u, s, v = np.linalg.svd(corn['cornspect'])"
   ]
  },
  {
   "cell_type": "code",
   "execution_count": 84,
   "id": "58aa83da",
   "metadata": {
    "scrolled": true
   },
   "outputs": [
    {
     "data": {
      "text/plain": [
       "array([[-0.10766221, -0.06177376, -0.06744657, ..., -0.09342727,\n",
       "        -0.0324975 , -0.00651338],\n",
       "       [-0.10711772, -0.04489301, -0.15271354, ...,  0.02690004,\n",
       "         0.02617888, -0.01656111],\n",
       "       [-0.10430976, -0.03152467, -0.14416564, ...,  0.03943292,\n",
       "         0.18991331, -0.05905533],\n",
       "       ...,\n",
       "       [-0.11283817,  0.10640211, -0.14700306, ..., -0.06433914,\n",
       "         0.09890731, -0.07471134],\n",
       "       [-0.1116692 ,  0.16278927, -0.2605115 , ...,  0.05356606,\n",
       "        -0.0683183 , -0.00545901],\n",
       "       [-0.11015854,  0.13282234, -0.14622347, ..., -0.05612056,\n",
       "         0.0995325 ,  0.04456304]])"
      ]
     },
     "execution_count": 84,
     "metadata": {},
     "output_type": "execute_result"
    }
   ],
   "source": [
    "u"
   ]
  },
  {
   "cell_type": "code",
   "execution_count": 85,
   "id": "c05789f9",
   "metadata": {},
   "outputs": [
    {
     "data": {
      "text/plain": [
       "(80, 80)"
      ]
     },
     "execution_count": 85,
     "metadata": {},
     "output_type": "execute_result"
    }
   ],
   "source": [
    "# m×m的矩阵\n",
    "np.shape(u)"
   ]
  },
  {
   "cell_type": "code",
   "execution_count": 86,
   "id": "cf6a2dcb",
   "metadata": {},
   "outputs": [
    {
     "data": {
      "text/plain": [
       "array([1.02189403e+02, 1.31555098e+00, 2.86300023e-01, 2.06647672e-01,\n",
       "       1.23320160e-01, 1.01962901e-01, 8.44201029e-02, 5.95557353e-02,\n",
       "       4.87776936e-02, 3.59610431e-02, 2.65651573e-02, 2.43821148e-02,\n",
       "       1.67820830e-02, 1.43876982e-02, 1.18457855e-02, 1.09519847e-02,\n",
       "       8.60348511e-03, 7.60123007e-03, 6.26677951e-03, 5.49703459e-03,\n",
       "       4.62195443e-03, 4.30313933e-03, 4.10671864e-03, 3.34783768e-03,\n",
       "       3.12820935e-03, 2.93179213e-03, 2.71602632e-03, 2.63444134e-03,\n",
       "       2.21754084e-03, 2.06739281e-03, 2.03560931e-03, 1.81664919e-03,\n",
       "       1.80753370e-03, 1.66393383e-03, 1.51039776e-03, 1.47712972e-03,\n",
       "       1.44003794e-03, 1.36589013e-03, 1.33998417e-03, 1.28325843e-03,\n",
       "       1.22271657e-03, 1.19984693e-03, 1.17138061e-03, 1.09763253e-03,\n",
       "       1.07197149e-03, 1.03856084e-03, 1.00076446e-03, 9.80288950e-04,\n",
       "       9.71646266e-04, 9.52059694e-04, 9.08703117e-04, 8.85455892e-04,\n",
       "       8.58611010e-04, 8.45916029e-04, 8.22717212e-04, 8.20617083e-04,\n",
       "       7.99513054e-04, 7.76761813e-04, 7.71012058e-04, 7.47605734e-04,\n",
       "       7.37121126e-04, 7.17805207e-04, 7.05171347e-04, 6.90730388e-04,\n",
       "       6.78923481e-04, 6.69666649e-04, 6.45240068e-04, 6.29388863e-04,\n",
       "       6.21295553e-04, 6.05709575e-04, 5.95068420e-04, 5.54677582e-04,\n",
       "       5.37616106e-04, 5.30521510e-04, 5.16084505e-04, 5.04182442e-04,\n",
       "       4.93029882e-04, 4.80365078e-04, 4.65208742e-04, 4.51680328e-04])"
      ]
     },
     "execution_count": 86,
     "metadata": {},
     "output_type": "execute_result"
    }
   ],
   "source": [
    "s"
   ]
  },
  {
   "cell_type": "code",
   "execution_count": 87,
   "id": "8396e762",
   "metadata": {},
   "outputs": [
    {
     "data": {
      "text/plain": [
       "(80,)"
      ]
     },
     "execution_count": 87,
     "metadata": {},
     "output_type": "execute_result"
    }
   ],
   "source": [
    "# m×n的矩阵，但对角线以外的0和80列之后的0被省略了，显示长度为80的一维数组，即80个奇异值\n",
    "np.shape(s)"
   ]
  },
  {
   "cell_type": "code",
   "execution_count": 88,
   "id": "51ba09e3",
   "metadata": {},
   "outputs": [
    {
     "data": {
      "text/plain": [
       "array([[-0.00403511, -0.00402106, -0.00401253, ..., -0.0655987 ,\n",
       "        -0.06557121, -0.06553583],\n",
       "       [ 0.02575335,  0.02576878,  0.02578561, ..., -0.101072  ,\n",
       "        -0.10088717, -0.10098831],\n",
       "       [-0.09460057, -0.09412392, -0.09395736, ..., -0.10754175,\n",
       "        -0.10817194, -0.10786906],\n",
       "       ...,\n",
       "       [-0.02684543,  0.04946046,  0.05568483, ...,  0.55597715,\n",
       "        -0.14069446, -0.02302742],\n",
       "       [-0.05426379,  0.01742776,  0.08685229, ..., -0.13204769,\n",
       "         0.49585694, -0.16757625],\n",
       "       [-0.06998284, -0.04016291,  0.08569621, ..., -0.03255652,\n",
       "        -0.16420087,  0.37470294]])"
      ]
     },
     "execution_count": 88,
     "metadata": {},
     "output_type": "execute_result"
    }
   ],
   "source": [
    "v"
   ]
  },
  {
   "cell_type": "code",
   "execution_count": 89,
   "id": "b9d30c2a",
   "metadata": {},
   "outputs": [
    {
     "data": {
      "text/plain": [
       "(700, 700)"
      ]
     },
     "execution_count": 89,
     "metadata": {},
     "output_type": "execute_result"
    }
   ],
   "source": [
    "# n×n的矩阵\n",
    "np.shape(v)"
   ]
  },
  {
   "cell_type": "markdown",
   "id": "4f02697c",
   "metadata": {},
   "source": [
    "# 计算cornspect矩阵的协方差矩阵 #"
   ]
  },
  {
   "cell_type": "code",
   "execution_count": 90,
   "id": "2dd0e8e2",
   "metadata": {},
   "outputs": [],
   "source": [
    "covariance = np.cov(corn['cornspect'])"
   ]
  },
  {
   "cell_type": "code",
   "execution_count": 91,
   "id": "41ae5f68",
   "metadata": {},
   "outputs": [
    {
     "data": {
      "text/plain": [
       "array([[0.03229906, 0.03195112, 0.03104011, ..., 0.03267672, 0.03180767,\n",
       "        0.0316798 ],\n",
       "       [0.03195112, 0.03160735, 0.03070605, ..., 0.03232432, 0.03146423,\n",
       "        0.03133758],\n",
       "       [0.03104011, 0.03070605, 0.02983194, ..., 0.03140558, 0.03057055,\n",
       "        0.03044687],\n",
       "       ...,\n",
       "       [0.03267672, 0.03232432, 0.03140558, ..., 0.03308453, 0.03220488,\n",
       "        0.03207659],\n",
       "       [0.03180767, 0.03146423, 0.03057055, ..., 0.03220488, 0.03134975,\n",
       "        0.03122449],\n",
       "       [0.0316798 , 0.03133758, 0.03044687, ..., 0.03207659, 0.03122449,\n",
       "        0.0311009 ]])"
      ]
     },
     "execution_count": 91,
     "metadata": {},
     "output_type": "execute_result"
    }
   ],
   "source": [
    "covariance"
   ]
  },
  {
   "cell_type": "code",
   "execution_count": 92,
   "id": "d41cbb33",
   "metadata": {},
   "outputs": [
    {
     "data": {
      "text/plain": [
       "(80, 80)"
      ]
     },
     "execution_count": 92,
     "metadata": {},
     "output_type": "execute_result"
    }
   ],
   "source": [
    "np.shape(covariance)"
   ]
  },
  {
   "cell_type": "markdown",
   "id": "7e61bc76",
   "metadata": {},
   "source": [
    "# 计算协方差矩阵的特征值和特征向量"
   ]
  },
  {
   "cell_type": "code",
   "execution_count": 93,
   "id": "b2b9a28b",
   "metadata": {},
   "outputs": [],
   "source": [
    "eigenvalue, eigenvector = np.linalg.eig(covariance)"
   ]
  },
  {
   "cell_type": "code",
   "execution_count": 94,
   "id": "3e8ef096",
   "metadata": {},
   "outputs": [
    {
     "data": {
      "text/plain": [
       "array([2.72837842e+00, 7.71787353e-04, 7.15488923e-05, 2.23924417e-05,\n",
       "       1.49861829e-05, 1.05734995e-05, 5.10911649e-06, 3.93034486e-06,\n",
       "       3.02712469e-06, 1.21668622e-06, 8.61407997e-07, 4.19582782e-07,\n",
       "       2.97774849e-07, 2.16764469e-07, 1.86212764e-07, 1.20712817e-07,\n",
       "       9.37486325e-08, 5.64432556e-08, 4.33779312e-08, 3.66081460e-08,\n",
       "       2.69579894e-08, 2.49932768e-08, 1.68545347e-08, 1.47107632e-08,\n",
       "       1.23878632e-08, 1.06465606e-08, 1.00825883e-08, 8.55863718e-09,\n",
       "       6.15123078e-09, 5.96000235e-09, 4.67620680e-09, 4.88409464e-09,\n",
       "       3.98131682e-09, 3.38627110e-09, 3.12147936e-09, 2.99884197e-09,\n",
       "       2.71402022e-09, 2.57620906e-09, 2.40337098e-09, 2.18727236e-09,\n",
       "       2.07648189e-09, 1.97149144e-09, 1.73159020e-09, 1.64487540e-09,\n",
       "       1.57837122e-09, 1.43473611e-09, 1.39488554e-09, 1.35444176e-09,\n",
       "       1.31096550e-09, 1.20455937e-09, 1.17442476e-09, 1.12111400e-09,\n",
       "       1.03126337e-09, 2.88447957e-10, 3.04547223e-10, 3.28749141e-10,\n",
       "       9.99358506e-10, 3.45936902e-10, 9.65716904e-10, 3.63506030e-10,\n",
       "       3.80713557e-10, 9.22470862e-10, 8.69297319e-10, 3.98729505e-10,\n",
       "       4.39375422e-10, 4.05196791e-10, 8.55682993e-10, 8.33569725e-10,\n",
       "       5.06485316e-10, 5.36432184e-10, 5.23471621e-10, 7.78008883e-10,\n",
       "       5.86693443e-10, 5.66252182e-10, 7.58695990e-10, 7.12269306e-10,\n",
       "       6.92081774e-10, 6.64031669e-10, 6.49213204e-10, 6.37560130e-10])"
      ]
     },
     "execution_count": 94,
     "metadata": {},
     "output_type": "execute_result"
    }
   ],
   "source": [
    "# 80个特征值\n",
    "eigenvalue"
   ]
  },
  {
   "cell_type": "code",
   "execution_count": 95,
   "id": "aae231b9",
   "metadata": {},
   "outputs": [
    {
     "data": {
      "text/plain": [
       "(80,)"
      ]
     },
     "execution_count": 95,
     "metadata": {},
     "output_type": "execute_result"
    }
   ],
   "source": [
    "np.shape(eigenvalue)"
   ]
  },
  {
   "cell_type": "code",
   "execution_count": 96,
   "id": "6672115e",
   "metadata": {},
   "outputs": [
    {
     "data": {
      "text/plain": [
       "array([[-1.08793064e-01,  8.41860728e-02, -2.48123197e-02, ...,\n",
       "         6.47496103e-02, -1.24439851e-01, -3.28447159e-02],\n",
       "       [-1.07619127e-01,  9.38118118e-02,  2.37143074e-02, ...,\n",
       "         1.43929072e-01,  2.79677298e-02,  4.06551690e-02],\n",
       "       [-1.04556707e-01,  7.58397408e-02,  2.79874604e-02, ...,\n",
       "         1.79372396e-02, -4.54478381e-02,  1.09099961e-02],\n",
       "       ...,\n",
       "       [-1.10104497e-01, -7.56759555e-02,  2.31141989e-01, ...,\n",
       "         1.07580929e-01, -1.25207928e-01, -1.85339566e-01],\n",
       "       [-1.07178673e-01, -8.15791137e-02,  1.74041317e-01, ...,\n",
       "        -1.75079849e-03, -5.51375237e-02,  1.81981689e-02],\n",
       "       [-1.06749193e-01, -9.41051824e-02,  1.66696248e-01, ...,\n",
       "        -4.01465783e-02,  1.20520113e-02,  1.05220266e-04]])"
      ]
     },
     "execution_count": 96,
     "metadata": {},
     "output_type": "execute_result"
    }
   ],
   "source": [
    "# 每一个特征值对应特征向量矩阵的一列向量\n",
    "eigenvector"
   ]
  },
  {
   "cell_type": "code",
   "execution_count": 97,
   "id": "5761519e",
   "metadata": {
    "scrolled": true
   },
   "outputs": [
    {
     "data": {
      "text/plain": [
       "(80, 80)"
      ]
     },
     "execution_count": 97,
     "metadata": {},
     "output_type": "execute_result"
    }
   ],
   "source": [
    "np.shape(eigenvector)"
   ]
  },
  {
   "cell_type": "markdown",
   "id": "7a1a8952",
   "metadata": {},
   "source": [
    "# 计算协方差矩阵的奇异值分解结果"
   ]
  },
  {
   "cell_type": "code",
   "execution_count": 222,
   "id": "7374b214",
   "metadata": {},
   "outputs": [
    {
     "data": {
      "text/plain": [
       "array([2.72837842e+00, 7.71787353e-04, 7.15488923e-05, 2.23924417e-05,\n",
       "       1.49861829e-05, 1.05734995e-05, 5.10911649e-06, 3.93034486e-06,\n",
       "       3.02712469e-06, 1.21668622e-06, 8.61407997e-07, 4.19582782e-07,\n",
       "       2.97774849e-07, 2.16764469e-07, 1.86212764e-07, 1.20712817e-07,\n",
       "       9.37486325e-08, 5.64432556e-08, 4.33779312e-08, 3.66081460e-08,\n",
       "       2.69579894e-08, 2.49932768e-08, 1.68545347e-08, 1.47107632e-08,\n",
       "       1.23878632e-08, 1.06465606e-08, 1.00825883e-08, 8.55863719e-09,\n",
       "       6.15123078e-09, 5.96000235e-09, 4.88409463e-09, 4.67620681e-09,\n",
       "       3.98131683e-09, 3.38627109e-09, 3.12147934e-09, 2.99884197e-09,\n",
       "       2.71402023e-09, 2.57620906e-09, 2.40337098e-09, 2.18727236e-09,\n",
       "       2.07648190e-09, 1.97149145e-09, 1.73159019e-09, 1.64487540e-09,\n",
       "       1.57837122e-09, 1.43473611e-09, 1.39488554e-09, 1.35444175e-09,\n",
       "       1.31096550e-09, 1.20455937e-09, 1.17442476e-09, 1.12111398e-09,\n",
       "       1.03126336e-09, 9.99358506e-10, 9.65716908e-10, 9.22470854e-10,\n",
       "       8.69297319e-10, 8.55682987e-10, 8.33569728e-10, 7.78008866e-10,\n",
       "       7.58695993e-10, 7.12269308e-10, 6.92081771e-10, 6.64031656e-10,\n",
       "       6.49213200e-10, 6.37560131e-10, 5.86693439e-10, 5.66252191e-10,\n",
       "       5.36432179e-10, 5.23471631e-10, 5.06485327e-10, 4.39375423e-10,\n",
       "       4.05196780e-10, 3.98729503e-10, 3.80713566e-10, 3.63506030e-10,\n",
       "       3.45936902e-10, 3.28749132e-10, 3.04547223e-10, 2.88447957e-10])"
      ]
     },
     "execution_count": 222,
     "metadata": {},
     "output_type": "execute_result"
    }
   ],
   "source": [
    "u3, singularvalue,v3 = np.linalg.svd(covariance)\n",
    "singularvalue"
   ]
  },
  {
   "cell_type": "code",
   "execution_count": 223,
   "id": "e8f4c99d",
   "metadata": {},
   "outputs": [
    {
     "data": {
      "text/plain": [
       "array([-3.99680289e-15, -5.74627151e-18,  2.20906193e-18,  5.49554976e-18,\n",
       "       -1.55345843e-18, -1.68051337e-18,  6.08254359e-18,  7.28448335e-20,\n",
       "       -4.23092957e-19, -1.00076943e-18, -6.44274436e-19,  2.33331107e-18,\n",
       "        4.60198294e-18, -8.88603736e-18, -1.26296054e-17,  6.09651964e-18,\n",
       "        2.49250562e-17,  3.63304342e-19, -1.63120017e-20, -1.42129151e-17,\n",
       "       -4.88976239e-19, -4.11256333e-18,  4.13846401e-18,  8.22072276e-18,\n",
       "        8.58309570e-18,  2.43054946e-18,  1.35403676e-18,  1.07130097e-17,\n",
       "        2.60478100e-18,  4.98360354e-18,  2.07887839e-10, -2.07887831e-10,\n",
       "        8.71305901e-18, -1.03876899e-17, -1.88266415e-17,  8.36101755e-19,\n",
       "        6.00821397e-18,  2.09923633e-18, -7.51046909e-20,  5.55081122e-18,\n",
       "        1.15075754e-17,  9.75480117e-18, -7.30885457e-18,  7.18764531e-19,\n",
       "        1.32695693e-19, -2.57087321e-19, -1.74642643e-18, -6.32874584e-18,\n",
       "       -8.58918292e-19,  7.93933949e-19, -2.12836074e-18, -2.19561968e-17,\n",
       "       -5.75427387e-18,  7.10910549e-10,  6.61169685e-10,  5.93721713e-10,\n",
       "       -1.30061187e-10,  5.09746085e-10, -1.32147176e-10,  4.14502836e-10,\n",
       "        3.77982436e-10, -2.10201554e-10, -1.77215548e-10,  2.65302152e-10,\n",
       "        2.09837778e-10,  2.32363340e-10, -2.68989554e-10, -2.67317534e-10,\n",
       "        2.99468634e-11, -1.29605537e-11, -1.69862945e-11, -3.38633460e-10,\n",
       "       -1.81496663e-10, -1.67522679e-10, -3.77982424e-10, -3.48763276e-10,\n",
       "       -3.46144872e-10, -3.35282537e-10, -3.44665981e-10, -3.49112173e-10])"
      ]
     },
     "execution_count": 223,
     "metadata": {},
     "output_type": "execute_result"
    }
   ],
   "source": [
    "singularvalue-eigenvalue"
   ]
  },
  {
   "cell_type": "markdown",
   "id": "a77dbb5e",
   "metadata": {},
   "source": [
    "# 通关绘图直观比较奇异值特征值"
   ]
  },
  {
   "cell_type": "code",
   "execution_count": 135,
   "id": "a365308f",
   "metadata": {},
   "outputs": [
    {
     "data": {
      "image/png": "[encoded data removed]",
      "text/plain": [
       "<Figure size 432x288 with 1 Axes>"
      ]
     },
     "metadata": {
      "needs_background": "light"
     },
     "output_type": "display_data"
    }
   ],
   "source": [
    "plt.figure(1)\n",
    "\n",
    "x1 = np.linspace(1,80,80)\n",
    "y1 = eigenvalue\n",
    "plt.scatter(x1,y1)\n",
    "\n",
    "plt.show()"
   ]
  },
  {
   "cell_type": "code",
   "execution_count": 220,
   "id": "172a4db1",
   "metadata": {},
   "outputs": [
    {
     "data": {
      "image/png": "[encoded data removed]",
      "text/plain": [
       "<Figure size 432x288 with 1 Axes>"
      ]
     },
     "metadata": {
      "needs_background": "light"
     },
     "output_type": "display_data"
    }
   ],
   "source": [
    "# 由于y轴数据大小相差太大，采用取对数\n",
    "plt.figure(2)\n",
    "\n",
    "x2 = np.linspace(1,80,80)\n",
    "y2 = s\n",
    "# plt.ylim(0,150)\n",
    "plt.scatter(x2,y2)\n",
    "plt.yscale('log')\n",
    "plt.rcParams['font.sans-serif']=['Microsoft YaHei']\n",
    "plt.title(\"协方差矩阵的特征值大小分布\")\n",
    "\n",
    "\"\"\"\n",
    "在10的负一次方和负二次方间的数就已经小到可以忽略了\n",
    "同理选择前四至六个奇异值\n",
    "\n",
    "\"\"\"\n",
    "plt.show()"
   ]
  },
  {
   "cell_type": "code",
   "execution_count": 153,
   "id": "681ce91c",
   "metadata": {
    "scrolled": true
   },
   "outputs": [
    {
     "data": {
      "image/png": "[encoded data removed]",
      "text/plain": [
       "<Figure size 432x288 with 1 Axes>"
      ]
     },
     "metadata": {
      "needs_background": "light"
     },
     "output_type": "display_data"
    }
   ],
   "source": [
    "# 同理观察奇异值大小\n",
    "plt.figure(2)\n",
    "\n",
    "x2 = np.linspace(1,80,80)\n",
    "y2 = s\n",
    "\n",
    "plt.scatter(x2,y2)\n",
    "plt.yscale('log')\n",
    "plt.rcParams['font.sans-serif']=['Microsoft YaHei']\n",
    "plt.title(\"矩阵的奇异值大小分布\")\n",
    "\n",
    "\"\"\"\n",
    "在10的负一次方和负二次方间的数就已经小到可以忽略了\n",
    "也就是选择前四至六个特征值的特征向量分别作为行向量组成特征向量矩阵P实现PCA算法\n",
    "即基于特征值分解协方差矩阵实现PCA算法\n",
    "\"\"\"\n",
    "plt.show()"
   ]
  },
  {
   "cell_type": "markdown",
   "id": "f9d90b2a",
   "metadata": {},
   "source": [
    "# 比较奇异值与特征值"
   ]
  },
  {
   "cell_type": "code",
   "execution_count": 160,
   "id": "10e7aad9",
   "metadata": {
    "scrolled": true
   },
   "outputs": [
    {
     "data": {
      "text/plain": [
       "array([1.02189403e+02, 1.31555098e+00, 2.86300023e-01, 2.06647672e-01,\n",
       "       1.23320160e-01, 1.01962901e-01, 8.44201029e-02, 5.95557353e-02,\n",
       "       4.87776936e-02, 3.59610431e-02, 2.65651573e-02, 2.43821148e-02,\n",
       "       1.67820830e-02, 1.43876982e-02, 1.18457855e-02, 1.09519847e-02,\n",
       "       8.60348511e-03, 7.60123007e-03, 6.26677951e-03, 5.49703459e-03,\n",
       "       4.62195443e-03, 4.30313933e-03, 4.10671864e-03, 3.34783768e-03,\n",
       "       3.12820935e-03, 2.93179213e-03, 2.71602632e-03, 2.63444134e-03,\n",
       "       2.21754084e-03, 2.06739281e-03, 2.03560931e-03, 1.81664919e-03,\n",
       "       1.80753370e-03, 1.66393383e-03, 1.51039776e-03, 1.47712972e-03,\n",
       "       1.44003794e-03, 1.36589013e-03, 1.33998417e-03, 1.28325843e-03,\n",
       "       1.22271657e-03, 1.19984693e-03, 1.17138061e-03, 1.09763253e-03,\n",
       "       1.07197149e-03, 1.03856084e-03, 1.00076446e-03, 9.80288950e-04,\n",
       "       9.71646266e-04, 9.52059694e-04, 9.08703117e-04, 8.85455892e-04,\n",
       "       8.58611010e-04, 8.45916029e-04, 8.22717212e-04, 8.20617083e-04,\n",
       "       7.99513054e-04, 7.76761813e-04, 7.71012058e-04, 7.47605734e-04,\n",
       "       7.37121126e-04, 7.17805207e-04, 7.05171347e-04, 6.90730388e-04,\n",
       "       6.78923481e-04, 6.69666649e-04, 6.45240068e-04, 6.29388863e-04,\n",
       "       6.21295553e-04, 6.05709575e-04, 5.95068420e-04, 5.54677582e-04,\n",
       "       5.37616106e-04, 5.30521510e-04, 5.16084505e-04, 5.04182442e-04,\n",
       "       4.93029882e-04, 4.80365078e-04, 4.65208742e-04, 4.51680328e-04])"
      ]
     },
     "execution_count": 160,
     "metadata": {},
     "output_type": "execute_result"
    }
   ],
   "source": [
    "# cornspect矩阵的80个奇异值\n",
    "s"
   ]
  },
  {
   "cell_type": "code",
   "execution_count": 159,
   "id": "7b28dd00",
   "metadata": {
    "scrolled": true
   },
   "outputs": [
    {
     "data": {
      "text/plain": [
       "array([2.72837842e+00, 7.71787353e-04, 7.15488923e-05, 2.23924417e-05,\n",
       "       1.49861829e-05, 1.05734995e-05, 5.10911649e-06, 3.93034486e-06,\n",
       "       3.02712469e-06, 1.21668622e-06, 8.61407997e-07, 4.19582782e-07,\n",
       "       2.97774849e-07, 2.16764469e-07, 1.86212764e-07, 1.20712817e-07,\n",
       "       9.37486325e-08, 5.64432556e-08, 4.33779312e-08, 3.66081460e-08,\n",
       "       2.69579894e-08, 2.49932768e-08, 1.68545347e-08, 1.47107632e-08,\n",
       "       1.23878632e-08, 1.06465606e-08, 1.00825883e-08, 8.55863718e-09,\n",
       "       6.15123078e-09, 5.96000235e-09, 4.67620680e-09, 4.88409464e-09,\n",
       "       3.98131682e-09, 3.38627110e-09, 3.12147936e-09, 2.99884197e-09,\n",
       "       2.71402022e-09, 2.57620906e-09, 2.40337098e-09, 2.18727236e-09,\n",
       "       2.07648189e-09, 1.97149144e-09, 1.73159020e-09, 1.64487540e-09,\n",
       "       1.57837122e-09, 1.43473611e-09, 1.39488554e-09, 1.35444176e-09,\n",
       "       1.31096550e-09, 1.20455937e-09, 1.17442476e-09, 1.12111400e-09,\n",
       "       1.03126337e-09, 2.88447957e-10, 3.04547223e-10, 3.28749141e-10,\n",
       "       9.99358506e-10, 3.45936902e-10, 9.65716904e-10, 3.63506030e-10,\n",
       "       3.80713557e-10, 9.22470862e-10, 8.69297319e-10, 3.98729505e-10,\n",
       "       4.39375422e-10, 4.05196791e-10, 8.55682993e-10, 8.33569725e-10,\n",
       "       5.06485316e-10, 5.36432184e-10, 5.23471621e-10, 7.78008883e-10,\n",
       "       5.86693443e-10, 5.66252182e-10, 7.58695990e-10, 7.12269306e-10,\n",
       "       6.92081774e-10, 6.64031669e-10, 6.49213204e-10, 6.37560130e-10])"
      ]
     },
     "execution_count": 159,
     "metadata": {},
     "output_type": "execute_result"
    }
   ],
   "source": [
    "# cornspect矩阵的协方差矩阵的80个特征值\n",
    "eigenvalue"
   ]
  },
  {
   "cell_type": "markdown",
   "id": "1e0833b6",
   "metadata": {},
   "source": [
    "# 分析range和span"
   ]
  },
  {
   "cell_type": "code",
   "execution_count": 165,
   "id": "c2027c2e",
   "metadata": {},
   "outputs": [
    {
     "data": {
      "text/plain": [
       "array([[0.0444948, 0.0443834, 0.0442581, ..., 0.731327 , 0.730944 ,\n",
       "        0.730594 ],\n",
       "       [0.0465041, 0.0463485, 0.0462297, ..., 0.727786 , 0.727504 ,\n",
       "        0.72703  ],\n",
       "       [0.0469579, 0.046817 , 0.0466632, ..., 0.706597 , 0.706122 ,\n",
       "        0.705967 ],\n",
       "       ...,\n",
       "       [0.0497173, 0.0495729, 0.0494713, ..., 0.748217 , 0.747987 ,\n",
       "        0.747532 ],\n",
       "       [0.0594381, 0.0593211, 0.0592224, ..., 0.736457 , 0.736197 ,\n",
       "        0.735732 ],\n",
       "       [0.0500851, 0.0499276, 0.0498294, ..., 0.728992 , 0.728863 ,\n",
       "        0.728245 ]])"
      ]
     },
     "execution_count": 165,
     "metadata": {},
     "output_type": "execute_result"
    }
   ],
   "source": [
    "A = corn['cornspect']\n",
    "A"
   ]
  },
  {
   "cell_type": "code",
   "execution_count": 166,
   "id": "a019ff79",
   "metadata": {},
   "outputs": [
    {
     "data": {
      "text/plain": [
       "(80, 700)"
      ]
     },
     "execution_count": 166,
     "metadata": {},
     "output_type": "execute_result"
    }
   ],
   "source": [
    "np.shape(A)"
   ]
  },
  {
   "cell_type": "markdown",
   "id": "5548487c",
   "metadata": {},
   "source": [
    "<font size=4>y = A·x<br>\n",
    "x、y都是向量，A与x的内积得到列向量y，y的取值范围就是range</font>"
   ]
  },
  {
   "cell_type": "code",
   "execution_count": 219,
   "id": "0c04adcd",
   "metadata": {},
   "outputs": [
    {
     "data": {
      "text/plain": [
       "array([[128.03332007],\n",
       "       [127.54370956],\n",
       "       [124.26481516],\n",
       "       [121.27231772],\n",
       "       [140.37351143],\n",
       "       [139.49924303],\n",
       "       [140.38261683],\n",
       "       [142.68182895],\n",
       "       [124.63201986],\n",
       "       [128.71794684],\n",
       "       [156.09001215],\n",
       "       [153.30608409],\n",
       "       [126.98618788],\n",
       "       [129.97994894],\n",
       "       [149.23259144],\n",
       "       [154.27147998],\n",
       "       [136.34397515],\n",
       "       [142.67067994],\n",
       "       [138.59164865],\n",
       "       [143.62679802],\n",
       "       [136.70523873],\n",
       "       [143.5905323 ],\n",
       "       [143.63178471],\n",
       "       [143.57894114],\n",
       "       [140.08993948],\n",
       "       [134.83538605],\n",
       "       [151.80747492],\n",
       "       [151.64647492],\n",
       "       [149.59652753],\n",
       "       [117.75427253],\n",
       "       [119.16531988],\n",
       "       [129.25207798],\n",
       "       [131.0691392 ],\n",
       "       [141.68326016],\n",
       "       [144.05089946],\n",
       "       [120.20642967],\n",
       "       [118.71816637],\n",
       "       [123.0856602 ],\n",
       "       [119.80115949],\n",
       "       [115.81338391],\n",
       "       [117.50286691],\n",
       "       [115.79937352],\n",
       "       [116.84061257],\n",
       "       [127.18924625],\n",
       "       [124.65186048],\n",
       "       [133.2069941 ],\n",
       "       [140.83085791],\n",
       "       [130.52000751],\n",
       "       [127.80979945],\n",
       "       [126.45135805],\n",
       "       [131.65598038],\n",
       "       [130.32371384],\n",
       "       [135.39395372],\n",
       "       [113.0117578 ],\n",
       "       [111.94327323],\n",
       "       [123.32617454],\n",
       "       [135.2058378 ],\n",
       "       [133.40381888],\n",
       "       [131.63912974],\n",
       "       [134.33611532],\n",
       "       [125.40505937],\n",
       "       [132.19166688],\n",
       "       [137.70387461],\n",
       "       [128.01211428],\n",
       "       [129.85193527],\n",
       "       [119.00351411],\n",
       "       [132.92928375],\n",
       "       [123.38806937],\n",
       "       [132.96312631],\n",
       "       [123.97856056],\n",
       "       [132.4224564 ],\n",
       "       [133.43030146],\n",
       "       [125.75497119],\n",
       "       [117.2084904 ],\n",
       "       [168.63709957],\n",
       "       [131.56691462],\n",
       "       [161.79826456],\n",
       "       [135.20420799],\n",
       "       [134.25826665],\n",
       "       [132.18557542]])"
      ]
     },
     "execution_count": 219,
     "metadata": {},
     "output_type": "execute_result"
    }
   ],
   "source": [
    "# 例子\n",
    "# range1\n",
    "x = np.random.rand(1,700).reshape(-1,1)\n",
    "y1 = np.dot(A,x)\n",
    "y1"
   ]
  },
  {
   "cell_type": "code",
   "execution_count": 215,
   "id": "a4f304be",
   "metadata": {},
   "outputs": [
    {
     "data": {
      "text/plain": [
       "array([[133.20820649],\n",
       "       [132.71191557],\n",
       "       [129.32187469],\n",
       "       [126.18325459],\n",
       "       [146.11835666],\n",
       "       [145.18058689],\n",
       "       [146.11685351],\n",
       "       [148.51348659],\n",
       "       [129.70993236],\n",
       "       [133.95457522],\n",
       "       [162.45364105],\n",
       "       [159.53337027],\n",
       "       [132.09669498],\n",
       "       [135.22355325],\n",
       "       [155.29056889],\n",
       "       [160.53229663],\n",
       "       [141.89484324],\n",
       "       [148.44301844],\n",
       "       [144.24246062],\n",
       "       [149.46259431],\n",
       "       [142.2289407 ],\n",
       "       [149.4107453 ],\n",
       "       [149.45710731],\n",
       "       [149.40131265],\n",
       "       [145.79817862],\n",
       "       [140.29460754],\n",
       "       [157.95715194],\n",
       "       [157.78286558],\n",
       "       [155.67687674],\n",
       "       [122.4865873 ],\n",
       "       [123.94875092],\n",
       "       [134.47906081],\n",
       "       [136.37069966],\n",
       "       [147.39957497],\n",
       "       [149.90103584],\n",
       "       [125.05104414],\n",
       "       [123.50689675],\n",
       "       [128.05831489],\n",
       "       [124.63553241],\n",
       "       [120.45421665],\n",
       "       [122.2313498 ],\n",
       "       [120.48465399],\n",
       "       [121.55803724],\n",
       "       [132.37717179],\n",
       "       [129.73010177],\n",
       "       [138.67566864],\n",
       "       [146.62909052],\n",
       "       [135.8462212 ],\n",
       "       [132.99003589],\n",
       "       [131.58509382],\n",
       "       [137.00938066],\n",
       "       [135.59812041],\n",
       "       [140.89499039],\n",
       "       [117.55481222],\n",
       "       [116.44383712],\n",
       "       [128.27091447],\n",
       "       [140.62336597],\n",
       "       [138.78165283],\n",
       "       [136.94515221],\n",
       "       [139.77643838],\n",
       "       [130.47788882],\n",
       "       [137.54841333],\n",
       "       [143.31198718],\n",
       "       [133.17930211],\n",
       "       [135.10305981],\n",
       "       [123.7908596 ],\n",
       "       [138.3168076 ],\n",
       "       [128.35953793],\n",
       "       [138.35661859],\n",
       "       [129.00979177],\n",
       "       [137.75772751],\n",
       "       [138.7944111 ],\n",
       "       [130.89291274],\n",
       "       [121.97776339],\n",
       "       [175.63225686],\n",
       "       [136.93998886],\n",
       "       [168.52867657],\n",
       "       [140.75336835],\n",
       "       [139.80850351],\n",
       "       [137.62430795]])"
      ]
     },
     "execution_count": 215,
     "metadata": {},
     "output_type": "execute_result"
    }
   ],
   "source": [
    "# 例子\n",
    "# range2\n",
    "x = np.random.rand(1,700).reshape(-1,1)\n",
    "y2 = np.dot(A,x)\n",
    "y2"
   ]
  },
  {
   "cell_type": "markdown",
   "id": "96614daf",
   "metadata": {},
   "source": [
    "<font size=4>A的700个列向量x<sub>1</sub>、x<sub>2</sub>、x<sub>3</sub>....x<sub>700</sub><br>\n",
    "取任意数量的向量经过组合得到的向量空间称为span\n",
    "比如x<sub>0</sub>=c<sub>1</sub>x<sub>1</sub>+c<sub>2</sub>x<sub>2</sub>+c<sub>3</sub>x<sub>3</sub>就是span</font>"
   ]
  },
  {
   "cell_type": "code",
   "execution_count": 194,
   "id": "6b4d6afe",
   "metadata": {},
   "outputs": [],
   "source": [
    "# 例子\n",
    "# 取三个列向量生成span\n",
    "x3 = A[:,2]\n",
    "x7 = A[:,6]\n",
    "x9 = A[:,8]"
   ]
  },
  {
   "cell_type": "code",
   "execution_count": 201,
   "id": "6de985aa",
   "metadata": {
    "scrolled": true
   },
   "outputs": [
    {
     "data": {
      "text/plain": [
       "array([ 0.45842837,  0.90593843,  1.35305136,  1.7996758 ,  2.24885726,\n",
       "        2.69537377,  3.14357028,  3.59044979,  4.0355276 ,  4.48265313,\n",
       "        4.93099533,  5.37805812,  5.82114952,  6.26852413,  6.71865762,\n",
       "        7.16595219,  7.61108096,  8.0576974 ,  8.5048747 ,  8.95254324,\n",
       "        9.39876899,  9.84629057, 10.29379477, 10.74052569, 11.18723968,\n",
       "       11.63321204, 12.08274087, 12.52971272, 12.97671927, 13.41823404,\n",
       "       13.86527252, 14.31456165, 14.76131775, 15.20965156, 15.6576396 ,\n",
       "       16.10147181, 16.54873098, 16.99646298, 17.44280245, 17.88886329,\n",
       "       18.33696244, 18.78349483, 19.23074858, 19.67990747, 20.12689434,\n",
       "       20.57795045, 21.02507319, 21.46819243, 21.9148385 , 22.36098171,\n",
       "       22.80893169, 23.255459  , 23.7028334 , 24.14671503, 24.59358171,\n",
       "       25.04066326, 25.48916514, 25.93631042, 26.38314749, 26.83144521,\n",
       "       27.27757631, 27.72502786, 28.17300544, 28.61775776, 29.0655584 ,\n",
       "       29.51079105, 29.95980016, 30.40624696, 30.85391424, 31.30086987,\n",
       "       31.74837523, 32.19531434, 32.64354957, 33.08968641, 33.54284466,\n",
       "       33.98479633, 34.43748789, 34.87885118, 35.32836989, 35.77294563])"
      ]
     },
     "execution_count": 201,
     "metadata": {},
     "output_type": "execute_result"
    }
   ],
   "source": [
    "# 随机生成组合的权数\n",
    "c = np.random.rand(1,3)\n",
    "c1 = c[0][0]\n",
    "c2 = c[0][1]\n",
    "c3 = c[0][2]\n",
    "\n",
    "# span1\n",
    "xx = c1*x1+c2*x2+c3*x3\n",
    "xx"
   ]
  },
  {
   "cell_type": "code",
   "execution_count": 202,
   "id": "ef6e2f81",
   "metadata": {},
   "outputs": [
    {
     "data": {
      "text/plain": [
       "array([ 0.43645439,  0.86358616,  1.29037884,  1.71675442,  2.14531332,\n",
       "        2.57159675,  2.99931465,  3.42590803,  3.85096301,  4.27776645,\n",
       "        4.70560876,  5.13235862,  5.55571752,  5.98273364,  6.41210542,\n",
       "        6.8390532 ,  7.26415171,  7.69052046,  8.1173681 ,  8.54463519,\n",
       "        8.97067036,  9.39781196,  9.82493873, 10.25140523, 10.67785727,\n",
       "       11.10367608, 11.53253159, 11.9592038 , 12.38590565, 12.80791834,\n",
       "       13.23464746, 13.66329829, 14.08978628, 14.51762142, 14.94516132,\n",
       "       15.36915275, 15.7960703 , 16.22339158, 16.64952384, 17.07541819,\n",
       "       17.50305295, 17.92934994, 18.35626286, 18.78480249, 19.21148754,\n",
       "       19.64164711, 20.06844816, 20.49183083, 20.91822489, 21.34418957,\n",
       "       21.77169697, 22.19798962, 22.62500556, 23.04903919, 23.47562161,\n",
       "       23.9023875 , 24.33036614, 24.75718644, 25.18374358, 25.61154789,\n",
       "       26.03750224, 26.46458406, 26.89211502, 27.31689209, 27.74427197,\n",
       "       28.16945917, 28.59787091, 29.02409482, 29.45136083, 29.8780192 ,\n",
       "       30.30514696, 30.73179123, 31.15954219, 31.58550143, 32.01745592,\n",
       "       32.43984165, 32.87139766, 33.293281  , 33.72212786, 34.14675416])"
      ]
     },
     "execution_count": 202,
     "metadata": {},
     "output_type": "execute_result"
    }
   ],
   "source": [
    "# 随机生成组合的权数\n",
    "c = np.random.rand(1,3)\n",
    "c1 = c[0][0]\n",
    "c2 = c[0][1]\n",
    "c3 = c[0][2]\n",
    "\n",
    "# span2\n",
    "xy = c1*x1+c2*x2+c3*x3\n",
    "xy"
   ]
  },
  {
   "cell_type": "code",
   "execution_count": 203,
   "id": "8ad070a1",
   "metadata": {},
   "outputs": [
    {
     "data": {
      "text/plain": [
       "array([ 0.80305508,  1.5771033 ,  2.35009645,  3.12179183,  3.90028047,\n",
       "        4.67168912,  5.44756103,  6.21993407,  6.98752048,  7.7605471 ,\n",
       "        8.5368061 ,  9.30966603, 10.07197514, 10.84566351, 11.62668143,\n",
       "       12.40015714, 13.16787896, 13.93955307, 14.71271723, 15.48718649,\n",
       "       16.25782268, 17.03190149, 17.80593414, 18.57791241, 19.34984568,\n",
       "       20.11980866, 20.8992202 , 21.67183854, 22.44454907, 23.20266949,\n",
       "       23.97546488, 24.75423957, 25.52628472, 26.30252143, 27.0778395 ,\n",
       "       27.84211669, 28.61549837, 29.39013624, 30.16107452, 30.93127259,\n",
       "       31.70688582, 32.47833666, 33.25170393, 34.03013262, 34.80279088,\n",
       "       35.58625994, 36.35927915, 37.12166221, 37.89341507, 38.66383195,\n",
       "       39.43904891, 40.21048623, 40.98417405, 41.74858254, 42.52092148,\n",
       "       43.29383129, 44.07051449, 44.84359358, 45.61585385, 46.39199466,\n",
       "       47.16237937, 47.93627215, 48.71156244, 49.47828413, 50.25310433,\n",
       "       51.0211021 , 51.79913287, 52.57035631, 53.34482221, 54.11739747,\n",
       "       54.89143321, 55.66396456, 56.43993937, 57.21033931, 57.99939319,\n",
       "       58.75867433, 59.54648834, 60.30420631, 61.08359096, 61.84984352])"
      ]
     },
     "execution_count": 203,
     "metadata": {},
     "output_type": "execute_result"
    }
   ],
   "source": [
    "# 随机生成组合的权数\n",
    "c = np.random.rand(1,3)\n",
    "c1 = c[0][0]\n",
    "c2 = c[0][1]\n",
    "c3 = c[0][2]\n",
    "\n",
    "# span3\n",
    "xz = c1*x1+c2*x2+c3*x3\n",
    "xz"
   ]
  },
  {
   "cell_type": "markdown",
   "id": "52408ef1",
   "metadata": {},
   "source": [
    "# 以mp6nbs为例分析怎么取出数据，并进行相关计算"
   ]
  },
  {
   "cell_type": "code",
   "execution_count": 104,
   "id": "8e4991d5",
   "metadata": {},
   "outputs": [
    {
     "data": {
      "text/plain": [
       "dict_keys(['__header__', '__version__', '__globals__', 'm5spec', 'cornspect', 'cornwavelength', 'propvals', 'cornprop', 'NIRcoin', 'information', 'mp5spec', 'mp6spec', 'm5nbs', 'mp5nbs', 'mp6nbs'])"
      ]
     },
     "execution_count": 104,
     "metadata": {},
     "output_type": "execute_result"
    }
   ],
   "source": [
    "corn.keys()"
   ]
  },
  {
   "cell_type": "code",
   "execution_count": 105,
   "id": "e01c16bc",
   "metadata": {},
   "outputs": [
    {
     "data": {
      "text/plain": [
       "(1, 1)"
      ]
     },
     "execution_count": 105,
     "metadata": {},
     "output_type": "execute_result"
    }
   ],
   "source": [
    "np.shape(corn['mp6nbs'])"
   ]
  },
  {
   "cell_type": "code",
   "execution_count": 106,
   "id": "26b3265c",
   "metadata": {},
   "outputs": [],
   "source": [
    "mp6nbs = corn['mp6nbs']"
   ]
  },
  {
   "cell_type": "code",
   "execution_count": 107,
   "id": "c9b2c21a",
   "metadata": {},
   "outputs": [
    {
     "data": {
      "text/plain": [
       "array([[(array(['mp6nbs'], dtype='<U6'), array(['data'], dtype='<U4'), array([], dtype='<U1'), array([[2005.   ,    5.   ,   13.   ,    9.   ,   52.   ,   10.126]]), array([[2005.   ,    5.   ,   13.   ,    9.   ,   52.   ,   16.095]]), array([], shape=(0, 0), dtype=uint8), array([], shape=(0, 0), dtype=uint8), array([[0.0540352, 0.0523974, 0.0505351, ..., 0.0205688, 0.0214708,\n",
       "                0.0223628],\n",
       "               [0.0538763, 0.052227 , 0.0503497, ..., 0.0209743, 0.0218709,\n",
       "                0.0227737],\n",
       "               [0.0523787, 0.0506936, 0.0487596, ..., 0.0211716, 0.0220692,\n",
       "                0.0229549],\n",
       "               [0.0531089, 0.0514445, 0.0495416, ..., 0.0210523, 0.0219529,\n",
       "                0.0228439]]), array([[array([], dtype='<U1'), array([], dtype='<U1')],\n",
       "               [array([], dtype='<U1'), array([], dtype='<U1')]], dtype=object), array([[array([], shape=(0, 0), dtype=uint8), array([], dtype='<U1')],\n",
       "               [array([[1100, 1102, 1104, 1106, 1108, 1110, 1112, 1114, 1116, 1118, 1120,\n",
       "                        1122, 1124, 1126, 1128, 1130, 1132, 1134, 1136, 1138, 1140, 1142,\n",
       "                        1144, 1146, 1148, 1150, 1152, 1154, 1156, 1158, 1160, 1162, 1164,\n",
       "                        1166, 1168, 1170, 1172, 1174, 1176, 1178, 1180, 1182, 1184, 1186,\n",
       "                        1188, 1190, 1192, 1194, 1196, 1198, 1200, 1202, 1204, 1206, 1208,\n",
       "                        1210, 1212, 1214, 1216, 1218, 1220, 1222, 1224, 1226, 1228, 1230,\n",
       "                        1232, 1234, 1236, 1238, 1240, 1242, 1244, 1246, 1248, 1250, 1252,\n",
       "                        1254, 1256, 1258, 1260, 1262, 1264, 1266, 1268, 1270, 1272, 1274,\n",
       "                        1276, 1278, 1280, 1282, 1284, 1286, 1288, 1290, 1292, 1294, 1296,\n",
       "                        1298, 1300, 1302, 1304, 1306, 1308, 1310, 1312, 1314, 1316, 1318,\n",
       "                        1320, 1322, 1324, 1326, 1328, 1330, 1332, 1334, 1336, 1338, 1340,\n",
       "                        1342, 1344, 1346, 1348, 1350, 1352, 1354, 1356, 1358, 1360, 1362,\n",
       "                        1364, 1366, 1368, 1370, 1372, 1374, 1376, 1378, 1380, 1382, 1384,\n",
       "                        1386, 1388, 1390, 1392, 1394, 1396, 1398, 1400, 1402, 1404, 1406,\n",
       "                        1408, 1410, 1412, 1414, 1416, 1418, 1420, 1422, 1424, 1426, 1428,\n",
       "                        1430, 1432, 1434, 1436, 1438, 1440, 1442, 1444, 1446, 1448, 1450,\n",
       "                        1452, 1454, 1456, 1458, 1460, 1462, 1464, 1466, 1468, 1470, 1472,\n",
       "                        1474, 1476, 1478, 1480, 1482, 1484, 1486, 1488, 1490, 1492, 1494,\n",
       "                        1496, 1498, 1500, 1502, 1504, 1506, 1508, 1510, 1512, 1514, 1516,\n",
       "                        1518, 1520, 1522, 1524, 1526, 1528, 1530, 1532, 1534, 1536, 1538,\n",
       "                        1540, 1542, 1544, 1546, 1548, 1550, 1552, 1554, 1556, 1558, 1560,\n",
       "                        1562, 1564, 1566, 1568, 1570, 1572, 1574, 1576, 1578, 1580, 1582,\n",
       "                        1584, 1586, 1588, 1590, 1592, 1594, 1596, 1598, 1600, 1602, 1604,\n",
       "                        1606, 1608, 1610, 1612, 1614, 1616, 1618, 1620, 1622, 1624, 1626,\n",
       "                        1628, 1630, 1632, 1634, 1636, 1638, 1640, 1642, 1644, 1646, 1648,\n",
       "                        1650, 1652, 1654, 1656, 1658, 1660, 1662, 1664, 1666, 1668, 1670,\n",
       "                        1672, 1674, 1676, 1678, 1680, 1682, 1684, 1686, 1688, 1690, 1692,\n",
       "                        1694, 1696, 1698, 1700, 1702, 1704, 1706, 1708, 1710, 1712, 1714,\n",
       "                        1716, 1718, 1720, 1722, 1724, 1726, 1728, 1730, 1732, 1734, 1736,\n",
       "                        1738, 1740, 1742, 1744, 1746, 1748, 1750, 1752, 1754, 1756, 1758,\n",
       "                        1760, 1762, 1764, 1766, 1768, 1770, 1772, 1774, 1776, 1778, 1780,\n",
       "                        1782, 1784, 1786, 1788, 1790, 1792, 1794, 1796, 1798, 1800, 1802,\n",
       "                        1804, 1806, 1808, 1810, 1812, 1814, 1816, 1818, 1820, 1822, 1824,\n",
       "                        1826, 1828, 1830, 1832, 1834, 1836, 1838, 1840, 1842, 1844, 1846,\n",
       "                        1848, 1850, 1852, 1854, 1856, 1858, 1860, 1862, 1864, 1866, 1868,\n",
       "                        1870, 1872, 1874, 1876, 1878, 1880, 1882, 1884, 1886, 1888, 1890,\n",
       "                        1892, 1894, 1896, 1898, 1900, 1902, 1904, 1906, 1908, 1910, 1912,\n",
       "                        1914, 1916, 1918, 1920, 1922, 1924, 1926, 1928, 1930, 1932, 1934,\n",
       "                        1936, 1938, 1940, 1942, 1944, 1946, 1948, 1950, 1952, 1954, 1956,\n",
       "                        1958, 1960, 1962, 1964, 1966, 1968, 1970, 1972, 1974, 1976, 1978,\n",
       "                        1980, 1982, 1984, 1986, 1988, 1990, 1992, 1994, 1996, 1998, 2000,\n",
       "                        2002, 2004, 2006, 2008, 2010, 2012, 2014, 2016, 2018, 2020, 2022,\n",
       "                        2024, 2026, 2028, 2030, 2032, 2034, 2036, 2038, 2040, 2042, 2044,\n",
       "                        2046, 2048, 2050, 2052, 2054, 2056, 2058, 2060, 2062, 2064, 2066,\n",
       "                        2068, 2070, 2072, 2074, 2076, 2078, 2080, 2082, 2084, 2086, 2088,\n",
       "                        2090, 2092, 2094, 2096, 2098, 2100, 2102, 2104, 2106, 2108, 2110,\n",
       "                        2112, 2114, 2116, 2118, 2120, 2122, 2124, 2126, 2128, 2130, 2132,\n",
       "                        2134, 2136, 2138, 2140, 2142, 2144, 2146, 2148, 2150, 2152, 2154,\n",
       "                        2156, 2158, 2160, 2162, 2164, 2166, 2168, 2170, 2172, 2174, 2176,\n",
       "                        2178, 2180, 2182, 2184, 2186, 2188, 2190, 2192, 2194, 2196, 2198,\n",
       "                        2200, 2202, 2204, 2206, 2208, 2210, 2212, 2214, 2216, 2218, 2220,\n",
       "                        2222, 2224, 2226, 2228, 2230, 2232, 2234, 2236, 2238, 2240, 2242,\n",
       "                        2244, 2246, 2248, 2250, 2252, 2254, 2256, 2258, 2260, 2262, 2264,\n",
       "                        2266, 2268, 2270, 2272, 2274, 2276, 2278, 2280, 2282, 2284, 2286,\n",
       "                        2288, 2290, 2292, 2294, 2296, 2298, 2300, 2302, 2304, 2306, 2308,\n",
       "                        2310, 2312, 2314, 2316, 2318, 2320, 2322, 2324, 2326, 2328, 2330,\n",
       "                        2332, 2334, 2336, 2338, 2340, 2342, 2344, 2346, 2348, 2350, 2352,\n",
       "                        2354, 2356, 2358, 2360, 2362, 2364, 2366, 2368, 2370, 2372, 2374,\n",
       "                        2376, 2378, 2380, 2382, 2384, 2386, 2388, 2390, 2392, 2394, 2396,\n",
       "                        2398, 2400, 2402, 2404, 2406, 2408, 2410, 2412, 2414, 2416, 2418,\n",
       "                        2420, 2422, 2424, 2426, 2428, 2430, 2432, 2434, 2436, 2438, 2440,\n",
       "                        2442, 2444, 2446, 2448, 2450, 2452, 2454, 2456, 2458, 2460, 2462,\n",
       "                        2464, 2466, 2468, 2470, 2472, 2474, 2476, 2478, 2480, 2482, 2484,\n",
       "                        2486, 2488, 2490, 2492, 2494, 2496, 2498]], dtype=uint16)        ,\n",
       "                array([], dtype='<U1')]], dtype=object), array([[array([], dtype='<U1'), array([], dtype='<U1')],\n",
       "               [array([], dtype='<U1'), array([], dtype='<U1')]], dtype=object), array([[array([], shape=(0, 0), dtype=uint8), array([], dtype='<U1')],\n",
       "               [array([], shape=(0, 0), dtype=uint8), array([], dtype='<U1')]],\n",
       "              dtype=object), array([[array([[1, 2, 3, 4]], dtype=uint8),\n",
       "                array([], shape=(1, 0), dtype=float64)],\n",
       "               [array([[  1,   2,   3,   4,   5,   6,   7,   8,   9,  10,  11,  12,  13,\n",
       "                         14,  15,  16,  17,  18,  19,  20,  21,  22,  23,  24,  25,  26,\n",
       "                         27,  28,  29,  30,  31,  32,  33,  34,  35,  36,  37,  38,  39,\n",
       "                         40,  41,  42,  43,  44,  45,  46,  47,  48,  49,  50,  51,  52,\n",
       "                         53,  54,  55,  56,  57,  58,  59,  60,  61,  62,  63,  64,  65,\n",
       "                         66,  67,  68,  69,  70,  71,  72,  73,  74,  75,  76,  77,  78,\n",
       "                         79,  80,  81,  82,  83,  84,  85,  86,  87,  88,  89,  90,  91,\n",
       "                         92,  93,  94,  95,  96,  97,  98,  99, 100, 101, 102, 103, 104,\n",
       "                        105, 106, 107, 108, 109, 110, 111, 112, 113, 114, 115, 116, 117,\n",
       "                        118, 119, 120, 121, 122, 123, 124, 125, 126, 127, 128, 129, 130,\n",
       "                        131, 132, 133, 134, 135, 136, 137, 138, 139, 140, 141, 142, 143,\n",
       "                        144, 145, 146, 147, 148, 149, 150, 151, 152, 153, 154, 155, 156,\n",
       "                        157, 158, 159, 160, 161, 162, 163, 164, 165, 166, 167, 168, 169,\n",
       "                        170, 171, 172, 173, 174, 175, 176, 177, 178, 179, 180, 181, 182,\n",
       "                        183, 184, 185, 186, 187, 188, 189, 190, 191, 192, 193, 194, 195,\n",
       "                        196, 197, 198, 199, 200, 201, 202, 203, 204, 205, 206, 207, 208,\n",
       "                        209, 210, 211, 212, 213, 214, 215, 216, 217, 218, 219, 220, 221,\n",
       "                        222, 223, 224, 225, 226, 227, 228, 229, 230, 231, 232, 233, 234,\n",
       "                        235, 236, 237, 238, 239, 240, 241, 242, 243, 244, 245, 246, 247,\n",
       "                        248, 249, 250, 251, 252, 253, 254, 255, 256, 257, 258, 259, 260,\n",
       "                        261, 262, 263, 264, 265, 266, 267, 268, 269, 270, 271, 272, 273,\n",
       "                        274, 275, 276, 277, 278, 279, 280, 281, 282, 283, 284, 285, 286,\n",
       "                        287, 288, 289, 290, 291, 292, 293, 294, 295, 296, 297, 298, 299,\n",
       "                        300, 301, 302, 303, 304, 305, 306, 307, 308, 309, 310, 311, 312,\n",
       "                        313, 314, 315, 316, 317, 318, 319, 320, 321, 322, 323, 324, 325,\n",
       "                        326, 327, 328, 329, 330, 331, 332, 333, 334, 335, 336, 337, 338,\n",
       "                        339, 340, 341, 342, 343, 344, 345, 346, 347, 348, 349, 350, 351,\n",
       "                        352, 353, 354, 355, 356, 357, 358, 359, 360, 361, 362, 363, 364,\n",
       "                        365, 366, 367, 368, 369, 370, 371, 372, 373, 374, 375, 376, 377,\n",
       "                        378, 379, 380, 381, 382, 383, 384, 385, 386, 387, 388, 389, 390,\n",
       "                        391, 392, 393, 394, 395, 396, 397, 398, 399, 400, 401, 402, 403,\n",
       "                        404, 405, 406, 407, 408, 409, 410, 411, 412, 413, 414, 415, 416,\n",
       "                        417, 418, 419, 420, 421, 422, 423, 424, 425, 426, 427, 428, 429,\n",
       "                        430, 431, 432, 433, 434, 435, 436, 437, 438, 439, 440, 441, 442,\n",
       "                        443, 444, 445, 446, 447, 448, 449, 450, 451, 452, 453, 454, 455,\n",
       "                        456, 457, 458, 459, 460, 461, 462, 463, 464, 465, 466, 467, 468,\n",
       "                        469, 470, 471, 472, 473, 474, 475, 476, 477, 478, 479, 480, 481,\n",
       "                        482, 483, 484, 485, 486, 487, 488, 489, 490, 491, 492, 493, 494,\n",
       "                        495, 496, 497, 498, 499, 500, 501, 502, 503, 504, 505, 506, 507,\n",
       "                        508, 509, 510, 511, 512, 513, 514, 515, 516, 517, 518, 519, 520,\n",
       "                        521, 522, 523, 524, 525, 526, 527, 528, 529, 530, 531, 532, 533,\n",
       "                        534, 535, 536, 537, 538, 539, 540, 541, 542, 543, 544, 545, 546,\n",
       "                        547, 548, 549, 550, 551, 552, 553, 554, 555, 556, 557, 558, 559,\n",
       "                        560, 561, 562, 563, 564, 565, 566, 567, 568, 569, 570, 571, 572,\n",
       "                        573, 574, 575, 576, 577, 578, 579, 580, 581, 582, 583, 584, 585,\n",
       "                        586, 587, 588, 589, 590, 591, 592, 593, 594, 595, 596, 597, 598,\n",
       "                        599, 600, 601, 602, 603, 604, 605, 606, 607, 608, 609, 610, 611,\n",
       "                        612, 613, 614, 615, 616, 617, 618, 619, 620, 621, 622, 623, 624,\n",
       "                        625, 626, 627, 628, 629, 630, 631, 632, 633, 634, 635, 636, 637,\n",
       "                        638, 639, 640, 641, 642, 643, 644, 645, 646, 647, 648, 649, 650,\n",
       "                        651, 652, 653, 654, 655, 656, 657, 658, 659, 660, 661, 662, 663,\n",
       "                        664, 665, 666, 667, 668, 669, 670, 671, 672, 673, 674, 675, 676,\n",
       "                        677, 678, 679, 680, 681, 682, 683, 684, 685, 686, 687, 688, 689,\n",
       "                        690, 691, 692, 693, 694, 695, 696, 697, 698, 699, 700]],\n",
       "                      dtype=uint16)                                                     ,\n",
       "                array([], shape=(1, 0), dtype=float64)]], dtype=object), array([], dtype='<U1'), array([], shape=(0, 0), dtype=uint8), array(['4.0'], dtype='<U3'), array([[array(['mp6nbs.axisscale{2,1}=freqs;   %class double 1x700'], dtype='<U50')]],\n",
       "              dtype=object))                                                                                                                                                                                                                                                                                                                                                                ]],\n",
       "      dtype=[('name', 'O'), ('type', 'O'), ('author', 'O'), ('date', 'O'), ('moddate', 'O'), ('imagesize', 'O'), ('imagemode', 'O'), ('data', 'O'), ('label', 'O'), ('axisscale', 'O'), ('title', 'O'), ('class', 'O'), ('include', 'O'), ('description', 'O'), ('userdata', 'O'), ('datasetversion', 'O'), ('history', 'O')])"
      ]
     },
     "execution_count": 107,
     "metadata": {},
     "output_type": "execute_result"
    }
   ],
   "source": [
    "mp6nbs"
   ]
  },
  {
   "cell_type": "code",
   "execution_count": 108,
   "id": "ef886b17",
   "metadata": {},
   "outputs": [
    {
     "data": {
      "text/plain": [
       "array([[array([[0.0540352, 0.0523974, 0.0505351, ..., 0.0205688, 0.0214708,\n",
       "                0.0223628],\n",
       "               [0.0538763, 0.052227 , 0.0503497, ..., 0.0209743, 0.0218709,\n",
       "                0.0227737],\n",
       "               [0.0523787, 0.0506936, 0.0487596, ..., 0.0211716, 0.0220692,\n",
       "                0.0229549],\n",
       "               [0.0531089, 0.0514445, 0.0495416, ..., 0.0210523, 0.0219529,\n",
       "                0.0228439]])                                               ]],\n",
       "      dtype=object)"
      ]
     },
     "execution_count": 108,
     "metadata": {},
     "output_type": "execute_result"
    }
   ],
   "source": [
    "mp6nbs['data']"
   ]
  },
  {
   "cell_type": "code",
   "execution_count": 109,
   "id": "11c81a9f",
   "metadata": {},
   "outputs": [
    {
     "name": "stdout",
     "output_type": "stream",
     "text": [
      "[[0.0540352 0.0523974 0.0505351 ... 0.0205688 0.0214708 0.0223628]\n",
      " [0.0538763 0.052227  0.0503497 ... 0.0209743 0.0218709 0.0227737]\n",
      " [0.0523787 0.0506936 0.0487596 ... 0.0211716 0.0220692 0.0229549]\n",
      " [0.0531089 0.0514445 0.0495416 ... 0.0210523 0.0219529 0.0228439]]\n"
     ]
    }
   ],
   "source": [
    "print(mp6nbs['data'][0][0])"
   ]
  },
  {
   "cell_type": "code",
   "execution_count": 110,
   "id": "5472f503",
   "metadata": {},
   "outputs": [
    {
     "data": {
      "text/plain": [
       "(4, 700)"
      ]
     },
     "execution_count": 110,
     "metadata": {},
     "output_type": "execute_result"
    }
   ],
   "source": [
    "np.shape(mp6nbs['data'][0][0])"
   ]
  },
  {
   "cell_type": "code",
   "execution_count": 111,
   "id": "a10ad4ad",
   "metadata": {},
   "outputs": [],
   "source": [
    "# 对mp6nbs里的data数据进行svd分解\n",
    "mp6nbs_data = mp6nbs['data'][0][0]\n",
    "u2, s2, v2 = np.linalg.svd(mp6nbs_data)"
   ]
  },
  {
   "cell_type": "code",
   "execution_count": 112,
   "id": "1a7fa347",
   "metadata": {},
   "outputs": [
    {
     "data": {
      "text/plain": [
       "array([[-0.50211953, -0.52327743,  0.68573793,  0.06180773],\n",
       "       [-0.50079662, -0.34717759, -0.58321056, -0.53715539],\n",
       "       [-0.49799925,  0.77105691,  0.25140502, -0.30702363],\n",
       "       [-0.49907461,  0.10545   , -0.35556216,  0.78318604]])"
      ]
     },
     "execution_count": 112,
     "metadata": {},
     "output_type": "execute_result"
    }
   ],
   "source": [
    "u2"
   ]
  },
  {
   "cell_type": "code",
   "execution_count": 113,
   "id": "ff558015",
   "metadata": {},
   "outputs": [
    {
     "data": {
      "text/plain": [
       "(4, 4)"
      ]
     },
     "execution_count": 113,
     "metadata": {},
     "output_type": "execute_result"
    }
   ],
   "source": [
    "np.shape(u2)"
   ]
  },
  {
   "cell_type": "code",
   "execution_count": 114,
   "id": "a450a5c5",
   "metadata": {},
   "outputs": [
    {
     "data": {
      "text/plain": [
       "array([3.98934455e+00, 2.66422265e-02, 5.56243694e-03, 1.53899713e-03])"
      ]
     },
     "execution_count": 114,
     "metadata": {},
     "output_type": "execute_result"
    }
   ],
   "source": [
    "s2"
   ]
  },
  {
   "cell_type": "code",
   "execution_count": 115,
   "id": "824e6800",
   "metadata": {},
   "outputs": [
    {
     "data": {
      "text/plain": [
       "(4,)"
      ]
     },
     "execution_count": 115,
     "metadata": {},
     "output_type": "execute_result"
    }
   ],
   "source": [
    "np.shape(s2)"
   ]
  },
  {
   "cell_type": "code",
   "execution_count": 116,
   "id": "4e7939a7",
   "metadata": {},
   "outputs": [
    {
     "data": {
      "text/plain": [
       "array([[-0.02674701, -0.02591526, -0.02496571, ..., -0.01049846,\n",
       "        -0.01094926, -0.01139689],\n",
       "       [-0.03726236, -0.03895874, -0.04142208, ...,  0.0187476 ,\n",
       "         0.01888998,  0.01876558],\n",
       "       [-0.01482946, -0.01358133, -0.01210835, ..., -0.05220403,\n",
       "        -0.05201151, -0.05362604],\n",
       "       ...,\n",
       "       [-0.01182543,  0.05336684, -0.01481417, ...,  0.99677356,\n",
       "        -0.00320745, -0.00331181],\n",
       "       [-0.01218924,  0.05312368, -0.01438229, ..., -0.00321176,\n",
       "         0.99680089, -0.00329727],\n",
       "       [-0.01275792,  0.05452198, -0.01559769, ..., -0.00331036,\n",
       "        -0.00329148,  0.99660145]])"
      ]
     },
     "execution_count": 116,
     "metadata": {},
     "output_type": "execute_result"
    }
   ],
   "source": [
    "v2"
   ]
  },
  {
   "cell_type": "code",
   "execution_count": 117,
   "id": "1233734f",
   "metadata": {},
   "outputs": [
    {
     "data": {
      "text/plain": [
       "(700, 700)"
      ]
     },
     "execution_count": 117,
     "metadata": {},
     "output_type": "execute_result"
    }
   ],
   "source": [
    "np.shape(v2)"
   ]
  },
  {
   "cell_type": "code",
   "execution_count": 118,
   "id": "b3dcd38e",
   "metadata": {},
   "outputs": [
    {
     "data": {
      "text/plain": [
       "0.2027222"
      ]
     },
     "execution_count": 118,
     "metadata": {},
     "output_type": "execute_result"
    }
   ],
   "source": [
    "np.trace(mp6nbs_data)"
   ]
  }
 ],
 "metadata": {
  "kernelspec": {
   "display_name": "Python 3 (ipykernel)",
   "language": "python",
   "name": "python3"
  },
  "language_info": {
   "codemirror_mode": {
    "name": "ipython",
    "version": 3
   },
   "file_extension": ".py",
   "mimetype": "text/x-python",
   "name": "python",
   "nbconvert_exporter": "python",
   "pygments_lexer": "ipython3",
   "version": "3.8.10"
  },
  "toc": {
   "base_numbering": 1,
   "nav_menu": {},
   "number_sections": true,
   "sideBar": true,
   "skip_h1_title": false,
   "title_cell": "Table of Contents",
   "title_sidebar": "Contents",
   "toc_cell": false,
   "toc_position": {
    "height": "655.333px",
    "left": "82px",
    "top": "110.233px",
    "width": "338px"
   },
   "toc_section_display": true,
   "toc_window_display": true
  }
 },
 "nbformat": 4,
 "nbformat_minor": 5
}
